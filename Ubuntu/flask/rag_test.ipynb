{
 "cells": [
  {
   "cell_type": "code",
   "execution_count": 1,
   "metadata": {},
   "outputs": [
    {
     "name": "stdout",
     "output_type": "stream",
     "text": [
      "Baking a cake is a delightful process that requires some basic ingredients and a bit of patience. Here's a step-by-step guide on how to bake a cake:\n",
      "\n",
      "Ingredients:\n",
      "\n",
      "* 2 cups all-purpose flour\n",
      "* 1 teaspoon baking powder\n",
      "* 1 teaspoon salt\n",
      "* 1 cup unsalted butter, softened\n",
      "* 1 3/4 cups granulated sugar\n",
      "* 3 large eggs, at room temperature\n",
      "* 2 teaspoons vanilla extract\n",
      "* Optional: nuts, chocolate chips, or fruit for added flavor and texture\n",
      "\n",
      "Instructions:\n",
      "\n",
      "**Preheating the Oven**\n",
      "\n",
      "1. Preheat your oven to the desired temperature (350°F/180°C is a good starting point).\n",
      "2. Make sure you have a rack in the middle of the oven to ensure even baking.\n",
      "\n",
      "**Preparing the Cake Pan**\n",
      "\n",
      "1. Grease two 9-inch (23cm) round cake pans and line the bottoms with parchment paper.\n",
      "2. If using, sprinkle a small amount of flour or cocoa powder into the prepared pans to prevent sticking.\n",
      "\n",
      "**Mixing the Dry Ingredients**\n",
      "\n",
      "1. In a medium-sized bowl, whisk together the flour, baking powder, and salt. Set aside.\n",
      "\n",
      "**Creaming the Butter and Sugar**\n",
      "\n",
      "1. In a large mixing bowl, use an electric mixer (or a whisk and some elbow grease) to cream together the softened butter and granulated sugar until light and fluffy.\n",
      "2. This should take about 2-3 minutes, depending on your mixer's speed and efficiency.\n",
      "\n",
      "**Adding Eggs and Vanilla**\n",
      "\n",
      "1. Beat in each egg one at a time, making sure each is fully incorporated before adding the next.\n",
      "2. Add the vanilla extract and mix until combined.\n",
      "\n",
      "**Combining Wet and Dry Ingredients**\n",
      "\n",
      "1. Gradually pour the dry ingredients into the wet ingredients, alternating with adding a little milk or water as needed (about 1/4 cup).\n",
      "2. Mix until just combined – don't overmix!\n",
      "\n",
      "**Optional Add-ins**\n",
      "\n",
      "1. If using nuts, chocolate chips, or fruit, fold them into the batter at this stage.\n",
      "\n",
      "**Baking the Cake**\n",
      "\n",
      "1. Divide the batter evenly between the prepared pans and smooth out the tops.\n",
      "2. Place the pans in the preheated oven and bake for 25-30 minutes (or until a toothpick inserted comes out clean).\n",
      "3. Rotate the pans halfway through baking to ensure even browning.\n",
      "\n",
      "**Cooling and Assembly**\n",
      "\n",
      "1. Remove the cakes from the oven and let them cool in their pans for 5-10 minutes.\n",
      "2. Transfer the cakes to wire racks to cool completely.\n",
      "3. Once cooled, you can frost and decorate your cake as desired (or enjoy it as is – we won't judge!).\n",
      "\n",
      "**Tips and Variations**\n",
      "\n",
      "* Make sure to not overmix the batter, as this can lead to a dense or tough cake.\n",
      "* Experiment with different flavor combinations by using various extracts (e.g., almond, lemon), spices (e.g., cinnamon, nutmeg), or citrus zest.\n",
      "* If you're new to cake baking, consider starting with a simpler recipe and adjusting ingredients/techniques as needed.\n",
      "\n",
      "And that's it! With these steps, you'll be well on your way to baking a delicious cake. Happy baking!\n"
     ]
    }
   ],
   "source": [
    "from openai import OpenAI\n",
    "\n",
    "client = OpenAI(\n",
    "    base_url = 'http://localhost:11434/v1',\n",
    "    api_key='ollama', # required, but unused\n",
    ")\n",
    "\n",
    "response = client.chat.completions.create(\n",
    "  model=\"llama3:instruct\",\n",
    "  messages=[\n",
    "    {\"role\": \"system\", \"content\": \"You are a helpful assistant.\"},\n",
    "    {\"role\": \"user\", \"content\": \"Describe how to bake a cake\"},\n",
    "    \n",
    "\n",
    "  ]\n",
    ")\n",
    "print(response.choices[0].message.content)"
   ]
  },
  {
   "cell_type": "code",
   "execution_count": 375,
   "metadata": {},
   "outputs": [],
   "source": [
    "from langchain_community.llms import Ollama\n",
    "from langchain_community.embeddings.fastembed import FastEmbedEmbeddings\n",
    "from langchain_community.embeddings import OllamaEmbeddings\n",
    "from langchain_community.vectorstores import Chroma\n",
    "from langchain.chains.combine_documents import create_stuff_documents_chain\n",
    "from langchain.chains import create_retrieval_chain\n",
    "from langchain.prompts import PromptTemplate\n",
    "\n",
    "import json"
   ]
  },
  {
   "cell_type": "code",
   "execution_count": 2,
   "metadata": {},
   "outputs": [],
   "source": [
    "llm = Ollama(model=\"llama3:instruct\")"
   ]
  },
  {
   "cell_type": "code",
   "execution_count": 3,
   "metadata": {},
   "outputs": [],
   "source": [
    "response = llm.invoke(\"what is 2+ 2\")"
   ]
  },
  {
   "cell_type": "code",
   "execution_count": 4,
   "metadata": {},
   "outputs": [
    {
     "data": {
      "text/plain": [
       "'The answer to 2 + 2 is... (drumroll please)... 4!'"
      ]
     },
     "execution_count": 4,
     "metadata": {},
     "output_type": "execute_result"
    }
   ],
   "source": [
    "response"
   ]
  },
  {
   "cell_type": "code",
   "execution_count": 5,
   "metadata": {},
   "outputs": [
    {
     "data": {
      "application/vnd.jupyter.widget-view+json": {
       "model_id": "89283a9dcf8b4767b68d9ab39d2109f3",
       "version_major": 2,
       "version_minor": 0
      },
      "text/plain": [
       "Fetching 5 files:   0%|          | 0/5 [00:00<?, ?it/s]"
      ]
     },
     "metadata": {},
     "output_type": "display_data"
    },
    {
     "data": {
      "application/vnd.jupyter.widget-view+json": {
       "model_id": "62a414e5fe90455787d3c8b930480751",
       "version_major": 2,
       "version_minor": 0
      },
      "text/plain": [
       "tokenizer_config.json:   0%|          | 0.00/1.24k [00:00<?, ?B/s]"
      ]
     },
     "metadata": {},
     "output_type": "display_data"
    },
    {
     "data": {
      "application/vnd.jupyter.widget-view+json": {
       "model_id": "992ce15e307e4c2c9ab5922a6fcc2c2d",
       "version_major": 2,
       "version_minor": 0
      },
      "text/plain": [
       "special_tokens_map.json:   0%|          | 0.00/695 [00:00<?, ?B/s]"
      ]
     },
     "metadata": {},
     "output_type": "display_data"
    },
    {
     "data": {
      "application/vnd.jupyter.widget-view+json": {
       "model_id": "e144c7aefa4a440d8a18e34ab6fa36ec",
       "version_major": 2,
       "version_minor": 0
      },
      "text/plain": [
       "config.json:   0%|          | 0.00/706 [00:00<?, ?B/s]"
      ]
     },
     "metadata": {},
     "output_type": "display_data"
    },
    {
     "data": {
      "application/vnd.jupyter.widget-view+json": {
       "model_id": "b9abf342f4094023b8b9627b48716279",
       "version_major": 2,
       "version_minor": 0
      },
      "text/plain": [
       "tokenizer.json:   0%|          | 0.00/711k [00:00<?, ?B/s]"
      ]
     },
     "metadata": {},
     "output_type": "display_data"
    },
    {
     "data": {
      "application/vnd.jupyter.widget-view+json": {
       "model_id": "36b006a168704d69a90366d9cd1b3dac",
       "version_major": 2,
       "version_minor": 0
      },
      "text/plain": [
       "model_optimized.onnx:   0%|          | 0.00/66.5M [00:00<?, ?B/s]"
      ]
     },
     "metadata": {},
     "output_type": "display_data"
    }
   ],
   "source": [
    "embedding = FastEmbedEmbeddings()"
   ]
  },
  {
   "cell_type": "code",
   "execution_count": null,
   "metadata": {},
   "outputs": [],
   "source": []
  },
  {
   "cell_type": "code",
   "execution_count": 6,
   "metadata": {},
   "outputs": [
    {
     "name": "stdout",
     "output_type": "stream",
     "text": [
      "['Tab: [2304.07919] Chain of Thought Prompt Tuning in Vision Language Models at https://arxiv.org/abs/2304.07919', 'Tab: 2305.15021v2.pdf at https://arxiv.org/pdf/2305.15021', 'Tab: [2305.15408] Towards Revealing the Mystery behind Chain of Thought: A Theoretical Perspective at https://arxiv.org/abs/2305.15408', 'Tab: 2405.15071v2.pdf at https://arxiv.org/pdf/2405.15071', 'Tab: 2305.15408v5.pdf at https://arxiv.org/pdf/2305.15408', 'Tab: [2311.09193] The Role of Chain-of-Thought in Complex Vision-Language Reasoning Task at https://arxiv.org/abs/2311.09193', 'Tab: [2309.07915] MMICL: Empowering Vision-language Model with Multi-Modal In-Context Learning at https://arxiv.org/abs/2309.07915', 'Tab: [2401.02582] CoCoT: Contrastive Chain-of-Thought Prompting for Large Multimodal Models with Multiple Image Inputs at https://arxiv.org/abs/2401.02582', 'Tab: 2402.12195v1.pdf at https://arxiv.org/pdf/2402.12195', 'Tab: [2402.12058] Scaffolding Coordinates to Promote Vision-Language Coordination in Large Multi-Modal Models at https://arxiv.org/abs/2402.12058', 'Tab: [2403.12488] DetToolChain: A New Prompting Paradigm to Unleash Detection Ability of MLLM at https://arxiv.org/abs/2403.12488', 'Tab: 2405.13872v2.pdf at https://arxiv.org/pdf/2405.13872', 'Tab: 2404.09797v1.pdf at https://arxiv.org/pdf/2404.09797', 'Tab: 2403.12488v2.pdf at https://arxiv.org/pdf/2403.12488', 'Tab: 2402.12058v1.pdf at https://arxiv.org/pdf/2402.12058', 'Tab: 2405.16473v1.pdf at https://arxiv.org/pdf/2405.16473', 'Tab: 2402.13577v1.pdf at https://arxiv.org/pdf/2402.13577', 'Tab: 2311.09193v1.pdf at https://arxiv.org/pdf/2311.09193', 'Tab: [2405.18512] Understanding Transformer Reasoning Capabilities via Graph Algorithms at https://arxiv.org/abs/2405.18512', 'Tab: 2403.12801v1.pdf at https://arxiv.org/pdf/2403.12801', 'Tab: 2403.11220v3.pdf at https://arxiv.org/pdf/2403.11220v3', 'Tab: The Hunger Games Sequels Pitch Meeting - YouTube at https://www.youtube.com/watch?v=tIzZ5uRvcFE&ab_channel=ScreenRant', 'Tab: Quantum at https://chatgpt.com/c/7bc4c272-5d91-4717-b5cc-ef61d5adc5bc', 'Tab: openai whisper api pricing - Google Search at https://www.google.com/search?client=ubuntu&channel=fs&q=openai+whisper+api+pricing', 'Tab: Introducing ChatGPT and Whisper APIs | OpenAI at https://openai.com/index/introducing-chatgpt-and-whisper-apis/', 'Tab: API model whisper - Real cost - API - OpenAI Developer Forum at https://community.openai.com/t/api-model-whisper-real-cost/469816/19', 'Tab: ChatGPT at https://chatgpt.com/c/f0ab46f7-d0f0-4a39-8d85-0af28b5e4245', 'Tab: Debugging - Runtime / this-firefox at about:debugging#/runtime/this-firefox', 'Tab: leg extension machine proper form - Google Search at https://www.google.com/search?client=ubuntu&hs=JDp&sca_esv=44a09aed9e2edf4e&channel=fs&q=leg+extension+machine+proper+form&tbm=vid&source=lnms&prmd=ivsnmbt&sa=X&ved=2ahUKEwjm0_-107qGAxURO0QIHZ67BBgQ0pQJegQIFxAB&biw=2488&bih=1299&dpr=1', 'Tab: The RIGHT Way To Use The Leg Extension For Big Quads! (FIX YOUR FORM!) - YouTube at https://www.youtube.com/watch?v=tTbJBUKnWU8&ab_channel=MindPumpTV', 'Tab: How To: Leg Extension (Cybex) - YouTube at https://www.youtube.com/watch?v=YyvSfVjQeL0&ab_channel=ScottHermanFitness', 'Tab: How To Do Leg Extensions With Perfect Technique (Grow Every Quad Head) - YouTube at https://www.youtube.com/watch?v=ljO4jkwv8wQ&ab_channel=JeffNippard', 'Tab: 2309.04902v1.pdf at https://arxiv.org/pdf/2309.04902', 'Tab: 2402.03752v1.pdf at https://arxiv.org/pdf/2402.03752', '']\n"
     ]
    }
   ],
   "source": [
    "def load_text_file(file_path):\n",
    "    \"\"\"\n",
    "    Loads a text file and returns a list of lines.\n",
    "    \n",
    "    Args:\n",
    "    file_path (str): The path to the text file.\n",
    "    \n",
    "    Returns:\n",
    "    list of str: Each element is a line from the file.\n",
    "    \"\"\"\n",
    "    try:\n",
    "        with open(file_path, 'r', encoding='utf-8') as file:\n",
    "            lines = file.readlines()  # Read all lines in the file\n",
    "        # Strip whitespace and newlines from the end of each line\n",
    "        lines = [line.strip() for line in lines]\n",
    "        return lines\n",
    "    except FileNotFoundError:\n",
    "        print(\"The file was not found.\")\n",
    "        return []\n",
    "    except Exception as e:\n",
    "        print(f\"An error occurred: {e}\")\n",
    "        return []\n",
    "\n",
    "# Example usage:\n",
    "file_path = '/media/fsa/SecondaryDisk/MyWork/GPT/NeedleWindow/Ubuntu/flask/tab_titles.txt'\n",
    "lines = load_text_file(file_path)\n",
    "print(lines)  # Print the list of lines\n"
   ]
  },
  {
   "cell_type": "code",
   "execution_count": null,
   "metadata": {},
   "outputs": [],
   "source": [
    "ollama_emb = OllamaEmbeddings(model=\"llama3:instruct\")"
   ]
  },
  {
   "cell_type": "code",
   "execution_count": 487,
   "metadata": {},
   "outputs": [],
   "source": [
    "ollama_emb = OllamaEmbeddings(model=\"mxbai-embed-large\")"
   ]
  },
  {
   "cell_type": "code",
   "execution_count": null,
   "metadata": {},
   "outputs": [],
   "source": []
  },
  {
   "cell_type": "code",
   "execution_count": 22,
   "metadata": {},
   "outputs": [],
   "source": [
    "\n",
    "persistent_client = chromadb.PersistentClient()"
   ]
  },
  {
   "cell_type": "code",
   "execution_count": null,
   "metadata": {},
   "outputs": [],
   "source": [
    "langchain_chroma = Chroma(client=p)"
   ]
  },
  {
   "cell_type": "code",
   "execution_count": 42,
   "metadata": {},
   "outputs": [],
   "source": [
    "vector_store = Chroma.from_texts(lines, ollama_emb)"
   ]
  },
  {
   "cell_type": "code",
   "execution_count": null,
   "metadata": {},
   "outputs": [],
   "source": [
    "vector_store = Chroma.from_texts(lines, embedding)"
   ]
  },
  {
   "cell_type": "code",
   "execution_count": 44,
   "metadata": {},
   "outputs": [
    {
     "data": {
      "text/plain": [
       "['24dbb0b1-d86a-4b0c-8d93-64e9e3d363ff']"
      ]
     },
     "execution_count": 44,
     "metadata": {},
     "output_type": "execute_result"
    }
   ],
   "source": [
    "vector_store.add_texts(lines[:1])"
   ]
  },
  {
   "cell_type": "code",
   "execution_count": 484,
   "metadata": {},
   "outputs": [
    {
     "data": {
      "text/plain": [
       "12"
      ]
     },
     "execution_count": 484,
     "metadata": {},
     "output_type": "execute_result"
    }
   ],
   "source": [
    "vector_store._collection.count()"
   ]
  },
  {
   "cell_type": "code",
   "execution_count": 485,
   "metadata": {},
   "outputs": [],
   "source": [
    "vector_store.delete_collection()"
   ]
  },
  {
   "cell_type": "code",
   "execution_count": 488,
   "metadata": {},
   "outputs": [],
   "source": [
    "vector_store = Chroma.from_texts([\"\"], ollama_emb)"
   ]
  },
  {
   "cell_type": "code",
   "execution_count": 75,
   "metadata": {},
   "outputs": [
    {
     "data": {
      "text/plain": [
       "['Tab: How To Do Leg Extensions With Perfect Technique (Grow Every Quad Head) - YouTube at https://www.youtube.com/watch?v=ljO4jkwv8wQ&ab_channel=JeffNippard',\n",
       " 'Tab: 2309.04902v1.pdf at https://arxiv.org/pdf/2309.04902',\n",
       " 'Tab: 2402.03752v1.pdf at https://arxiv.org/pdf/2402.03752',\n",
       " '']"
      ]
     },
     "execution_count": 75,
     "metadata": {},
     "output_type": "execute_result"
    }
   ],
   "source": [
    "lines[-4:40]"
   ]
  },
  {
   "cell_type": "code",
   "execution_count": 393,
   "metadata": {},
   "outputs": [
    {
     "data": {
      "text/plain": [
       "['97200d79-1eeb-4a63-857b-2fe35843091d',\n",
       " 'af7de40a-3db9-485b-8fe6-bb852f9b8334',\n",
       " '9451ec69-7e4c-4acc-bb98-de01e86904af',\n",
       " '1e34f53e-4e86-4db7-862c-13303b3a2c99']"
      ]
     },
     "execution_count": 393,
     "metadata": {},
     "output_type": "execute_result"
    }
   ],
   "source": [
    "vector_store.add_texts(lines[-4:40])"
   ]
  },
  {
   "cell_type": "code",
   "execution_count": 489,
   "metadata": {},
   "outputs": [],
   "source": [
    "t = \"\"\"  <id>143</id> <title>Kintsugi - Fredrik F. Ellertsen</title>\n",
    "<p>Repairing my mug with kintsugi</p>\n",
    "<p>My coffee mug broke earlier this year. Naturally, you wouldn't be reading this if it weren't a\n",
    "                    very special mug: It has accompanied me every day for the last 10 years. Through my\n",
    " </p>\n",
    "<p>The art of Kintsugi (Japanese: 金継ぎ)</p>\n",
    "<p>Kintsugi is the traditional Japanese art of repairing broken pottery. In Kintsugi, one uses natural\n",
    "                    lacquer mixed with various ingredients such as wood powder, polishing compound, </p>\n",
    "<p>Step 1: gluing the pieces together with mugi urushi</p>\n",
    "\n",
    "\n",
    "\"\"\""
   ]
  },
  {
   "cell_type": "code",
   "execution_count": 378,
   "metadata": {},
   "outputs": [],
   "source": [
    "#emb = ollama_emb.embed_query(t)"
   ]
  },
  {
   "cell_type": "code",
   "execution_count": 501,
   "metadata": {},
   "outputs": [],
   "source": [
    "collection = client.get_or_create_collection(\n",
    "    name=\"test\", embedding_function=ef)"
   ]
  },
  {
   "cell_type": "code",
   "execution_count": 504,
   "metadata": {},
   "outputs": [],
   "source": [
    "documents = [\n",
    "    \"A group of vibrant parrots chatter loudly, sharing stories of their tropical adventures.\",\n",
    "    \"The mathematician found solace in numbers, deciphering the hidden patterns of the universe.\",\n",
    "    \"The robot, with its intricate circuitry and precise movements, assembles the devices swiftly.\",\n",
    "    \"The chef, with a sprinkle of spices and a dash of love, creates culinary masterpieces.\",\n",
    "    \"The ancient tree, with its gnarled branches and deep roots, whispers secrets of the past.\",\n",
    "    \"The detective, with keen observation and logical reasoning, unravels the intricate web of clues.\",\n",
    "    \"The sunset paints the sky with shades of orange, pink, and purple, reflecting on the calm sea.\",\n",
    "    \"In the dense forest, the howl of a lone wolf echoes, blending with the symphony of the night.\",\n",
    "    \"The dancer, with graceful moves and expressive gestures, tells a story without uttering a word.\",\n",
    "    \"In the quantum realm, particles flicker in and out of existence, dancing to the tunes of probability.\"]\n",
    "\n",
    "# Every document needs an id for Chroma\n",
    "document_ids = list(map(lambda tup: f\"id{tup[0]}\", enumerate(documents)))\n",
    "\n",
    "collection.add(documents=documents, ids=document_ids)"
   ]
  },
  {
   "cell_type": "code",
   "execution_count": 505,
   "metadata": {},
   "outputs": [],
   "source": [
    "query = \"robots\""
   ]
  },
  {
   "cell_type": "code",
   "execution_count": 507,
   "metadata": {},
   "outputs": [],
   "source": [
    "result = collection.query(query_texts=[query], n_results=5, include=[\"documents\", 'distances',])\n"
   ]
  },
  {
   "cell_type": "code",
   "execution_count": 508,
   "metadata": {},
   "outputs": [],
   "source": [
    "# Extract the first (and only) list inside 'ids'\n",
    "ids = result.get('ids')[0]\n",
    "# Extract the first (and only) list inside 'documents'\n",
    "documents = result.get('documents')[0]\n",
    "# Extract the first (and only) list inside 'documents'\n",
    "distances = result.get('distances')[0]"
   ]
  },
  {
   "cell_type": "code",
   "execution_count": 509,
   "metadata": {},
   "outputs": [
    {
     "name": "stdout",
     "output_type": "stream",
     "text": [
      "ID: id4, Document: The ancient tree, with its gnarled branches and deep roots, whispers secrets of the past., Similarity: -344.1162109375\n",
      "ID: id0, Document: A group of vibrant parrots chatter loudly, sharing stories of their tropical adventures., Similarity: -351.15142822265625\n",
      "ID: id2, Document: The robot, with its intricate circuitry and precise movements, assembles the devices swiftly., Similarity: -372.04742431640625\n",
      "ID: id5, Document: The detective, with keen observation and logical reasoning, unravels the intricate web of clues., Similarity: -376.1719970703125\n",
      "ID: id9, Document: In the quantum realm, particles flicker in and out of existence, dancing to the tunes of probability., Similarity: -376.82745361328125\n"
     ]
    }
   ],
   "source": [
    "\n",
    "for id_, document, distance in zip(ids, documents, distances):\n",
    "    print(f\"ID: {id_}, Document: {document}, Similarity: {1 - distance}\")"
   ]
  },
  {
   "cell_type": "code",
   "execution_count": 490,
   "metadata": {},
   "outputs": [
    {
     "data": {
      "text/plain": [
       "['0']"
      ]
     },
     "execution_count": 490,
     "metadata": {},
     "output_type": "execute_result"
    }
   ],
   "source": [
    "vector_store.add_texts([t], ids=[\"0\"])"
   ]
  },
  {
   "cell_type": "code",
   "execution_count": 69,
   "metadata": {},
   "outputs": [],
   "source": [
    "raw_prompt = PromptTemplate.from_template(\"\"\"\n",
    "                                        <s>[INST] You are good at matching prompts to corresponding website text fragments. You will receive a query text. You should find out which of the context elements most closely matches it. Return that element. [/INST]</s>\n",
    "                                        [INST] Find this: {input}\n",
    "                                          Context: {context}\n",
    "                                          Answer: \n",
    "                                          [/INST]\n",
    "\n",
    "                                          \"\"\")"
   ]
  },
  {
   "cell_type": "code",
   "execution_count": 407,
   "metadata": {},
   "outputs": [],
   "source": [
    "retriever = vector_store.as_retriever(search_type=\"mmr\", #search_type=\"similarity_score_threshold\", \n",
    "                                      search_kwargs={\"k\":5,\n",
    "                                                     \"score_threshold\":0.1,}\n",
    "                                                     )"
   ]
  },
  {
   "cell_type": "code",
   "execution_count": 398,
   "metadata": {},
   "outputs": [],
   "source": [
    "retriever = vector_store.as_retriever()\n",
    "                                                     "
   ]
  },
  {
   "cell_type": "code",
   "execution_count": 403,
   "metadata": {},
   "outputs": [
    {
     "data": {
      "text/plain": [
       "{'ids': ['0',\n",
       "  '1e34f53e-4e86-4db7-862c-13303b3a2c99',\n",
       "  '9451ec69-7e4c-4acc-bb98-de01e86904af',\n",
       "  '97200d79-1eeb-4a63-857b-2fe35843091d',\n",
       "  'a37df88d-a454-44cd-80b8-5b4f567abeaa',\n",
       "  'af7de40a-3db9-485b-8fe6-bb852f9b8334'],\n",
       " 'embeddings': None,\n",
       " 'metadatas': [None, None, None, None, None, None],\n",
       " 'documents': [\"  <id>143</id> <title>Kintsugi - Fredrik F. Ellertsen</title>\\n<p>Repairing my mug with kintsugi</p>\\n<p>My coffee mug broke earlier this year. Naturally, you wouldn't be reading this if it weren't a\\n                    very special mug: It has accompanied me every day for the last 10 years. Through my\\n </p>\\n<p>The art of Kintsugi (Japanese: 金継ぎ)</p>\\n<p>Kintsugi is the traditional Japanese art of repairing broken pottery. In Kintsugi, one uses natural\\n                    lacquer mixed with various ingredients such as wood powder, polishing compound, </p>\\n<p>Step 1: gluing the pieces together with mugi urushi</p>\\n\\n\\n\",\n",
       "  '',\n",
       "  'Tab: 2402.03752v1.pdf at https://arxiv.org/pdf/2402.03752',\n",
       "  'Tab: How To Do Leg Extensions With Perfect Technique (Grow Every Quad Head) - YouTube at https://www.youtube.com/watch?v=ljO4jkwv8wQ&ab_channel=JeffNippard',\n",
       "  '',\n",
       "  'Tab: 2309.04902v1.pdf at https://arxiv.org/pdf/2309.04902'],\n",
       " 'uris': None,\n",
       " 'data': None}"
      ]
     },
     "execution_count": 403,
     "metadata": {},
     "output_type": "execute_result"
    }
   ],
   "source": [
    "vector_store.get(0)"
   ]
  },
  {
   "cell_type": "code",
   "execution_count": 342,
   "metadata": {},
   "outputs": [
    {
     "data": {
      "text/plain": [
       "{'ids': ['94c5dfdf-973e-4eb2-b28b-34050d0c167f'],\n",
       " 'embeddings': None,\n",
       " 'metadatas': [None],\n",
       " 'documents': [\"   <title>Kintsugi - Fredrik F. Ellertsen</title>\\n<p>Repairing my mug with kintsugi</p>\\n<p>My coffee mug broke earlier this year. Naturally, you wouldn't be reading this if it weren't a\\n                    very special mug: It has accompanied me every day for the last 10 years. Through my\\n </p>\\n<p>The art of Kintsugi (Japanese: 金継ぎ)</p>\\n<p>Kintsugi is the traditional Japanese art of repairing broken pottery. In Kintsugi, one uses natural\\n                    lacquer mixed with various ingredients such as wood powder, polishing compound, </p>\\n<p>Step 1: gluing the pieces together with mugi urushi</p>\\n\\n\\n\"],\n",
       " 'uris': None,\n",
       " 'data': None}"
      ]
     },
     "execution_count": 342,
     "metadata": {},
     "output_type": "execute_result"
    }
   ],
   "source": [
    "vector_store.get(['94c5dfdf-973e-4eb2-b28b-34050d0c167f'])"
   ]
  },
  {
   "cell_type": "code",
   "execution_count": 274,
   "metadata": {},
   "outputs": [],
   "source": [
    "#retriever = vector_store.as_retriever()"
   ]
  },
  {
   "cell_type": "code",
   "execution_count": 385,
   "metadata": {},
   "outputs": [],
   "source": [
    "query_prompt = \"Leg Workout big quads\""
   ]
  },
  {
   "cell_type": "code",
   "execution_count": 386,
   "metadata": {},
   "outputs": [],
   "source": [
    "document_chain = create_stuff_documents_chain(llm, raw_prompt)\n",
    "chain = create_retrieval_chain(retriever, document_chain)"
   ]
  },
  {
   "cell_type": "code",
   "execution_count": 387,
   "metadata": {},
   "outputs": [
    {
     "name": "stderr",
     "output_type": "stream",
     "text": [
      "Number of requested results 5 is greater than number of elements in index 2, updating n_results = 2\n",
      "/home/fsa/anaconda3/envs/llm_finetuning/lib/python3.9/site-packages/langchain_core/vectorstores.py:330: UserWarning: Relevance scores must be between 0 and 1, got [(Document(page_content=''), -26074.98781835977), (Document(page_content=\"  <id>143</id> <title>Kintsugi - Fredrik F. Ellertsen</title>\\n<p>Repairing my mug with kintsugi</p>\\n<p>My coffee mug broke earlier this year. Naturally, you wouldn't be reading this if it weren't a\\n                    very special mug: It has accompanied me every day for the last 10 years. Through my\\n </p>\\n<p>The art of Kintsugi (Japanese: 金継ぎ)</p>\\n<p>Kintsugi is the traditional Japanese art of repairing broken pottery. In Kintsugi, one uses natural\\n                    lacquer mixed with various ingredients such as wood powder, polishing compound, </p>\\n<p>Step 1: gluing the pieces together with mugi urushi</p>\\n\\n\\n\"), -27658.136372311576)]\n",
      "  warnings.warn(\n",
      "/home/fsa/anaconda3/envs/llm_finetuning/lib/python3.9/site-packages/langchain_core/vectorstores.py:342: UserWarning: No relevant docs were retrieved using the relevance score threshold 0.1\n",
      "  warnings.warn(\n"
     ]
    },
    {
     "data": {
      "text/plain": [
       "{'input': 'Leg Workout big quads',\n",
       " 'context': [],\n",
       " 'answer': 'Based on the query text \"Leg Workout big quads\", I would match it to the context element:\\n\\n**Bodybuilding.com**\\n\\nThis website is known for its vast collection of workout routines and exercises, including leg workouts. The mention of \"big quads\" suggests that the query is related to building strong quadriceps muscles through a leg workout.'}"
      ]
     },
     "execution_count": 387,
     "metadata": {},
     "output_type": "execute_result"
    }
   ],
   "source": [
    "chain.invoke({\"input\": query_prompt})"
   ]
  },
  {
   "cell_type": "code",
   "execution_count": null,
   "metadata": {},
   "outputs": [],
   "source": []
  },
  {
   "cell_type": "code",
   "execution_count": 85,
   "metadata": {},
   "outputs": [],
   "source": [
    "from langchain_core.output_parsers import JsonOutputParser\n",
    "from langchain_core.prompts import PromptTemplate\n",
    "\n",
    "from pydantic import BaseModel, Field"
   ]
  },
  {
   "cell_type": "code",
   "execution_count": null,
   "metadata": {},
   "outputs": [],
   "source": []
  },
  {
   "cell_type": "code",
   "execution_count": 358,
   "metadata": {},
   "outputs": [],
   "source": [
    "\n",
    "# Define your desired data structure for text matching.\n",
    "class TextMatch(BaseModel):\n",
    "    #match_found: bool = Field(description=\"Whether an exact match was found\")\n",
    "    title: str = Field(description=\"The html tag title of the text document\")\n",
    "    id: str = Field(description=\"The id of the text document\")\n",
    "    #matching_concept: str = Field(description=\"The concept found in the document that matched the query\")\n",
    "    #matching_concept_explanation: str = Field(description=\"Explain how it is related to the query\")\n",
    "    #explanation: str = Field(description=\"Explain how it is related to the query\")\n",
    "    #confidence: float = Field(description=\"Confidence score of the match\")\n"
   ]
  },
  {
   "cell_type": "code",
   "execution_count": 413,
   "metadata": {},
   "outputs": [
    {
     "name": "stderr",
     "output_type": "stream",
     "text": [
      "Number of requested results 20 is greater than number of elements in index 6, updating n_results = 6\n"
     ]
    },
    {
     "data": {
      "text/plain": [
       "{'input': 'arxiv pdf',\n",
       " 'context': [Document(page_content='Tab: 2309.04902v1.pdf at https://arxiv.org/pdf/2309.04902'),\n",
       "  Document(page_content='Tab: 2402.03752v1.pdf at https://arxiv.org/pdf/2402.03752'),\n",
       "  Document(page_content=''),\n",
       "  Document(page_content='Tab: How To Do Leg Extensions With Perfect Technique (Grow Every Quad Head) - YouTube at https://www.youtube.com/watch?v=ljO4jkwv8wQ&ab_channel=JeffNippard'),\n",
       "  Document(page_content=\"  <id>143</id> <title>Kintsugi - Fredrik F. Ellertsen</title>\\n<p>Repairing my mug with kintsugi</p>\\n<p>My coffee mug broke earlier this year. Naturally, you wouldn't be reading this if it weren't a\\n                    very special mug: It has accompanied me every day for the last 10 years. Through my\\n </p>\\n<p>The art of Kintsugi (Japanese: 金継ぎ)</p>\\n<p>Kintsugi is the traditional Japanese art of repairing broken pottery. In Kintsugi, one uses natural\\n                    lacquer mixed with various ingredients such as wood powder, polishing compound, </p>\\n<p>Step 1: gluing the pieces together with mugi urushi</p>\\n\\n\\n\")],\n",
       " 'answer': '{\"title\": \"none\", \"id\": \"143\"}'}"
      ]
     },
     "execution_count": 413,
     "metadata": {},
     "output_type": "execute_result"
    }
   ],
   "source": [
    "# Set up a parser + inject instructions into the prompt template.\n",
    "parser = JsonOutputParser(pydantic_object=TextMatch)\n",
    "\n",
    "prompt = PromptTemplate(\n",
    "    template=\"{format_instructions} \\n Please check if the user query is in any of the context items.\" \\\n",
    "         \" If there is an exact matching context item, please return its title html tag contents only.\" \\\n",
    "         \" ONLY GIVE THE TOP MATCH.\"\\\n",
    "         \" ONLY PROVIDE THE JSON OUTPUT.\" \\\n",
    "         \" ANSWER BRIEFLY.\" \\\n",
    "         \" DO NOT FORGET THE ID.\" \\\n",
    "         \" only reply with the FULL AND COMPLETE <title> </title> of the matched context item IF IT IS A GOOD MATCH. \" \\\n",
    "         \" Return \\\"title\\\" : \\\"none\\\" if there are no incredibly STRONGLY RELEVANT matches.\" \\\n",
    "         \" Context: {context}\" \\\n",
    "         \" \\n\\nQuery: {input}\\n\" \\\n",
    "         ,\n",
    "         \n",
    "    input_variables=[\"context\", \"input\"],\n",
    "    partial_variables={\"format_instructions\": parser.get_format_instructions()},\n",
    ")\n",
    "\n",
    "document_chain = create_stuff_documents_chain(llm, prompt)\n",
    "chain = create_retrieval_chain(retriever, document_chain)\n",
    "\n",
    "#query_prompt = \"Leg Workout big quads\"\n",
    "#query_prompt = \"mug\"\n",
    "#query_prompt = \"kintsugi\"\n",
    "#query_prompt = \"repair mug\"\n",
    "query_prompt = \"arxiv pdf\"\n",
    "\n",
    "response = chain.invoke({\"input\": query_prompt})\n",
    "response"
   ]
  },
  {
   "cell_type": "code",
   "execution_count": 99,
   "metadata": {},
   "outputs": [
    {
     "data": {
      "text/plain": [
       "{'input': 'Leg Workout big quads',\n",
       " 'context': [Document(page_content=''),\n",
       "  Document(page_content=\"  Title: Kintsugi - Fredrik F. Ellertsen\\n\\nParagraph 1: Repairing my mug with kintsugi\\nParagraph 2: My coffee mug broke earlier this year. Naturally, you wouldn't be reading this if it weren't a\\n                    very special mug: It has accompanied me every day for the last 10 years. Through my\\n \\nParagraph 3: The art of Kintsugi (Japanese: 金継ぎ)\\nParagraph 4: Kintsugi is the traditional Japanese art of repairing broken pottery. In Kintsugi, one uses natural\\n                    lacquer mixed with various ingredients such as wood powder, polishing compound, \\nParagraph 5: Step 1: gluing the pieces together with mugi urushi\\n\\n\")],\n",
       " 'answer': '[{\"text\": \"My coffee mug broke earlier this year.\"}, {\"text\": \"It has accompanied me every day for the last 10 years.\"}, {\"text\": \"Kintsugi is the traditional Japanese art of repairing broken pottery.\"}]'}"
      ]
     },
     "execution_count": 99,
     "metadata": {},
     "output_type": "execute_result"
    }
   ],
   "source": [
    "response"
   ]
  },
  {
   "cell_type": "code",
   "execution_count": 98,
   "metadata": {},
   "outputs": [
    {
     "data": {
      "text/plain": [
       "'[{\"text\": \"The RIGHT Way To Use The Leg Extension For Big Quads! (FIX YOUR FORM!) - YouTube at https://www.youtube.com/watch?v=tTbJBUKnWU8&ab_channel=MindPumpTV\"},\\n {\"text\": \"How To Do Leg Extensions With Perfect Technique (Grow Every Quad Head) - YouTube at https://www.youtube.com/watch?v=ljO4jkwv8wQ&ab_channel=JeffNippard\"},\\n {\"text\": \"How To: Leg Extension (Cybex) - YouTube at https://www.youtube.com/watch?v=YyvSfVjQeL0&ab_channel=ScottHermanFitness\"}]'"
      ]
     },
     "execution_count": 98,
     "metadata": {},
     "output_type": "execute_result"
    }
   ],
   "source": [
    "response['answer']"
   ]
  },
  {
   "cell_type": "code",
   "execution_count": 103,
   "metadata": {},
   "outputs": [
    {
     "name": "stdout",
     "output_type": "stream",
     "text": [
      "Matched Text: The RIGHT Way To Use The Leg Extension For Big Quads! (FIX YOUR FORM!) - YouTube at https://www.youtube.com/watch?v=tTbJBUKnWU8&ab_channel=MindPumpTV\n",
      "Matched Text: How To Do Leg Extensions With Perfect Technique (Grow Every Quad Head) - YouTube at https://www.youtube.com/watch?v=ljO4jkwv8wQ&ab_channel=JeffNippard\n",
      "Matched Text: How To: Leg Extension (Cybex) - YouTube at https://www.youtube.com/watch?v=YyvSfVjQeL0&ab_channel=ScottHermanFitness\n"
     ]
    }
   ],
   "source": [
    "\n",
    "# Convert the JSON output string in 'answer' to a Python dictionary\n",
    "try:\n",
    "    # Parse the JSON content from the 'answer' field\n",
    "    answer_data = json.loads(response['answer'])\n",
    "    # Extract and print the texts or any other relevant data\n",
    "    for match in answer_data:\n",
    "        print(\"Matched Text:\", match['text'])\n",
    "except json.JSONDecodeError:\n",
    "    print(\"Error decoding JSON\")\n",
    "except KeyError:\n",
    "    print(\"Key error in accessing data\")"
   ]
  },
  {
   "cell_type": "code",
   "execution_count": 374,
   "metadata": {},
   "outputs": [
    {
     "name": "stdout",
     "output_type": "stream",
     "text": [
      "Chain of Natural Language Inference for Reducing\n",
      "Large Language Model Ungrounded Hallucinations\n",
      "Deren Lei∗, Yaxi Li∗, Mengya (Mia) Hu∗, Mingyu Wang∗, Vincent Yun,\n",
      "Emily Ching, Eslam Kamal\n",
      "Microsoft Responsible AI\n",
      "{derenlei, yaxi.li, humia, mwang, xi.yun, yuetc, eskam}microsoft.com\n",
      "Abstract\n",
      "Large language models (LLMs) can generate fluent natural language texts when\n",
      "given relevant documents as background context. This ability has attracted con-\n",
      "siderable interest in developing industry applications of LLMs. However, LLMs\n",
      "are prone to generate hallucinations that are not supported by the provided sources.\n",
      "In this paper, we propose a hierarchical framework to detect and mitigate such un-\n",
      "grounded hallucination. Our framework uses Chain of Natural Language Inference\n",
      "(CoNLI) for hallucination detection and hallucination reduction via post-editing.\n",
      "Our approach achieves state-of-the-art performance on hallucination detection\n",
      "and enhances text quality through rewrite, using LLMs without any fine-tuning\n",
      "or domain-specific prompt engineering. We show that this simple plug-and-play\n",
      "framework can serve as an effective choice for hallucination detection and reduc-\n",
      "tion, achieving competitive performance across various contexts.2\n",
      "1 Introduction\n",
      "Large Language models, known for their remarkable capabilities in natural language generation\n",
      "(NLG) [ 1–3], have attracted unprecedented interest from the public. These models serve as the\n",
      "foundation for a wide array of business applications ( e.g.Bing.com, ChatGPT, and Github Copilot).\n",
      "A common characteristic of such applications is their reliance on LLMs for text-to-text generation,\n",
      "often necessitating that the generated responses maintain factual consistency with the source text.\n",
      "Therefore, ensuring factual consistency is a critical challenge when evaluating the quality of generated\n",
      "responses [ 4,5]. However, generating hallucination that diverges from the source text is a well-known\n",
      "phenomenon of LLMs. These hallucinations can be attributed to various factors, such as long input\n",
      "context [ 6], irrelevant context distraction [ 7], or complicated reasoning [ 8]. This phenomenon poses\n",
      "a significant challenge to the reliability of LLMs in real-world applications.\n",
      "Hallucination is commonly categorized as: context-related hallucination , refers to hallucination\n",
      "where generated response contradicts commonsense; self-conflicting hallucination , where generated\n",
      "response sentences conflict with each other ( e.g.numerical multi-step reasoning failed at a particular\n",
      "step [ 9,10]); and ungrounded hallucination , where generated sentences conflict with the source text\n",
      "[11] without assessing response coherence. Self-conflicting hallucination is more solution-dependent\n",
      "and behaves differently per downstream task. To generically enhance the reliability of LLM responses,\n",
      "our investigation focuses on reducing ungrounded hallucination, irrespective of the upstream task.\n",
      "We define alignment level with source as groundedness of LLM output.\n",
      "Numerous existing works have concentrated on evaluating the groundedness of generated texts by\n",
      "developing classification [ 12–14] or ranking [ 15] models. While these detection models are useful in\n",
      "∗Equal contributions.\n",
      "2https://github.com/microsoft/CoNLI_hallucination\n",
      "Preprint. Work in Progress.arXiv:2310.03951v2  [cs.CL]  9 Oct 2023\n"
     ]
    }
   ],
   "source": [
    "import PyPDF2\n",
    "\n",
    "# Open the PDF file\n",
    "with open(\"/media/fsa/SecondaryDisk/Papers/Yolo/2310.03951v2.pdf\", \"rb\") as file:\n",
    "    reader = PyPDF2.PdfReader(file)\n",
    "    page = reader.pages[0]\n",
    "    text = page.extract_text()\n",
    "    print(text)\n"
   ]
  },
  {
   "cell_type": "code",
   "execution_count": null,
   "metadata": {},
   "outputs": [],
   "source": []
  },
  {
   "cell_type": "code",
   "execution_count": 510,
   "metadata": {},
   "outputs": [],
   "source": [
    "import ollama\n",
    "import chromadb\n",
    "\n",
    "documents = [\n",
    "  \"Llamas are members of the camelid family meaning they're pretty closely related to vicuñas and camels\",\n",
    "  \"Llamas were first domesticated and used as pack animals 4,000 to 5,000 years ago in the Peruvian highlands\",\n",
    "  \"Llamas can grow as much as 6 feet tall though the average llama between 5 feet 6 inches and 5 feet 9 inches tall\",\n",
    "  \"Llamas weigh between 280 and 450 pounds and can carry 25 to 30 percent of their body weight\",\n",
    "  \"Llamas are vegetarians and have very efficient digestive systems\",\n",
    "  \"Llamas live to be about 20 years old, though some only live for 15 years and others live to be 30 years old\",\n",
    "]\n",
    "\n",
    "client = chromadb.Client()\n",
    "collection = client.create_collection(name=\"docs2\")\n",
    "\n",
    "# store each document in a vector embedding database\n",
    "for i, d in enumerate(documents):\n",
    "  response = ollama.embeddings(model=\"mxbai-embed-large\", prompt=d)\n",
    "  \n",
    "  embedding = response[\"embedding\"]\n",
    "  collection.add(\n",
    "    ids=[str(i)],\n",
    "    embeddings=[embedding],\n",
    "    documents=[d]\n",
    "  )"
   ]
  },
  {
   "cell_type": "code",
   "execution_count": 520,
   "metadata": {},
   "outputs": [],
   "source": [
    "# an example prompt\n",
    "prompt = \"Llamas are members of the camelid family meaning they're pretty closely related to vicuñas and camels\"\n",
    "\n",
    "# generate an embedding for the prompt and retrieve the most relevant doc\n",
    "response = ollama.embeddings(\n",
    "  prompt=prompt,\n",
    "  model=\"mxbai-embed-large\"\n",
    ")\n",
    "results = collection.query(\n",
    "  query_embeddings=[response[\"embedding\"]],\n",
    "  n_results=3\n",
    ")\n",
    "data = results['documents']"
   ]
  },
  {
   "cell_type": "code",
   "execution_count": 516,
   "metadata": {},
   "outputs": [
    {
     "data": {
      "text/plain": [
       "[['Llamas are vegetarians and have very efficient digestive systems',\n",
       "  'Llamas were first domesticated and used as pack animals 4,000 to 5,000 years ago in the Peruvian highlands',\n",
       "  'Llamas can grow as much as 6 feet tall though the average llama between 5 feet 6 inches and 5 feet 9 inches tall']]"
      ]
     },
     "execution_count": 516,
     "metadata": {},
     "output_type": "execute_result"
    }
   ],
   "source": [
    "data"
   ]
  },
  {
   "cell_type": "code",
   "execution_count": 431,
   "metadata": {},
   "outputs": [
    {
     "data": {
      "text/plain": [
       "6"
      ]
     },
     "execution_count": 431,
     "metadata": {},
     "output_type": "execute_result"
    }
   ],
   "source": [
    "collection.count()"
   ]
  },
  {
   "cell_type": "code",
   "execution_count": 427,
   "metadata": {},
   "outputs": [
    {
     "data": {
      "text/plain": [
       "[['Llamas are vegetarians and have very efficient digestive systems']]"
      ]
     },
     "execution_count": 427,
     "metadata": {},
     "output_type": "execute_result"
    }
   ],
   "source": [
    "results['documents']"
   ]
  },
  {
   "cell_type": "code",
   "execution_count": 424,
   "metadata": {},
   "outputs": [
    {
     "data": {
      "text/plain": [
       "'Llamas are vegetarians and have very efficient digestive systems'"
      ]
     },
     "execution_count": 424,
     "metadata": {},
     "output_type": "execute_result"
    }
   ],
   "source": [
    "data"
   ]
  },
  {
   "cell_type": "code",
   "execution_count": null,
   "metadata": {},
   "outputs": [],
   "source": []
  },
  {
   "cell_type": "code",
   "execution_count": 438,
   "metadata": {},
   "outputs": [],
   "source": [
    "from langchain_community.embeddings import OllamaEmbeddings\n",
    "ollama_emb = OllamaEmbeddings(\n",
    "    model=\"llama3:instruct\",\n",
    ")\n",
    "r1 = ollama_emb.embed_documents(\n",
    "    [\n",
    "        \"Alpha is the first letter of Greek alphabet\",\n",
    "        \"Beta is the second letter of Greek alphabet\",\n",
    "    ]\n",
    ")\n",
    "r2 = ollama_emb.embed_query(\n",
    "    \"What is the second letter of Greek alphabet\"\n",
    ")"
   ]
  },
  {
   "cell_type": "code",
   "execution_count": null,
   "metadata": {},
   "outputs": [],
   "source": []
  },
  {
   "cell_type": "code",
   "execution_count": 457,
   "metadata": {},
   "outputs": [],
   "source": [
    "import chromadb\n",
    "from chromadb.utils.embedding_functions import OllamaEmbeddingFunction\n",
    "\n",
    "client = chromadb.PersistentClient(path=\"ollama\")\n",
    "\n",
    "# create EF with custom endpoint\n",
    "ef = OllamaEmbeddingFunction(\n",
    "    model_name=\"mxbai-embed-large\",\n",
    "    url=\"http://localhost:11434/api/embeddings\",\n",
    ")\n",
    "\n"
   ]
  },
  {
   "cell_type": "code",
   "execution_count": 459,
   "metadata": {},
   "outputs": [
    {
     "data": {
      "text/plain": [
       "[[-0.05108518898487091,\n",
       "  0.4304863214492798,\n",
       "  0.044847846031188965,\n",
       "  1.3400577306747437,\n",
       "  -0.1308547854423523,\n",
       "  0.33226490020751953,\n",
       "  0.9797804355621338,\n",
       "  0.14138682186603546,\n",
       "  0.5622818470001221,\n",
       "  1.0770485401153564,\n",
       "  0.47171446681022644,\n",
       "  0.6737161874771118,\n",
       "  -0.07568156719207764,\n",
       "  -0.37759390473365784,\n",
       "  -1.0490233898162842,\n",
       "  -0.9725756645202637,\n",
       "  -0.7242923378944397,\n",
       "  -0.739854097366333,\n",
       "  -0.9139354825019836,\n",
       "  -0.3578605651855469,\n",
       "  -0.3225490152835846,\n",
       "  1.1483391523361206,\n",
       "  -0.45002618432044983,\n",
       "  0.43731987476348877,\n",
       "  0.3702929615974426,\n",
       "  1.327867865562439,\n",
       "  0.8434193730354309,\n",
       "  -0.3210490047931671,\n",
       "  1.0652456283569336,\n",
       "  1.0759488344192505,\n",
       "  0.4560483396053314,\n",
       "  0.6370710730552673,\n",
       "  0.19854627549648285,\n",
       "  -0.4779934287071228,\n",
       "  -0.12671145796775818,\n",
       "  -0.4209194779396057,\n",
       "  0.34700801968574524,\n",
       "  -0.7507031559944153,\n",
       "  -0.6449757814407349,\n",
       "  -1.257150411605835,\n",
       "  0.4641443192958832,\n",
       "  -0.7864816784858704,\n",
       "  0.42544475197792053,\n",
       "  -0.5405817627906799,\n",
       "  -0.28896406292915344,\n",
       "  0.1405327469110489,\n",
       "  -0.9619460701942444,\n",
       "  0.0673639327287674,\n",
       "  0.8399249315261841,\n",
       "  -0.8561944365501404,\n",
       "  -0.05020236223936081,\n",
       "  -0.32055312395095825,\n",
       "  -0.42877888679504395,\n",
       "  0.06667628139257431,\n",
       "  0.11924800276756287,\n",
       "  0.0508074015378952,\n",
       "  -0.13909181952476501,\n",
       "  0.740892231464386,\n",
       "  -0.11422547698020935,\n",
       "  0.07444780319929123,\n",
       "  0.5908798575401306,\n",
       "  0.13332810997962952,\n",
       "  0.28513118624687195,\n",
       "  -1.0919512510299683,\n",
       "  0.4630751609802246,\n",
       "  0.3375011384487152,\n",
       "  -1.052713394165039,\n",
       "  -0.6165462136268616,\n",
       "  -0.22132042050361633,\n",
       "  -0.2252703756093979,\n",
       "  0.211899995803833,\n",
       "  0.5444105863571167,\n",
       "  0.08734659850597382,\n",
       "  -0.9230835437774658,\n",
       "  -0.43112215399742126,\n",
       "  0.8051952123641968,\n",
       "  -0.28250953555107117,\n",
       "  0.5080828666687012,\n",
       "  -0.6486038565635681,\n",
       "  1.6558301448822021,\n",
       "  -0.2108929306268692,\n",
       "  0.14781582355499268,\n",
       "  0.2631547451019287,\n",
       "  0.2541002631187439,\n",
       "  0.22151929140090942,\n",
       "  0.01985173672437668,\n",
       "  -0.17809651792049408,\n",
       "  0.6130170822143555,\n",
       "  -0.7006629109382629,\n",
       "  -0.5303535461425781,\n",
       "  -0.04696902632713318,\n",
       "  0.7077348232269287,\n",
       "  -0.20999488234519958,\n",
       "  0.22162699699401855,\n",
       "  0.4804377853870392,\n",
       "  0.9217920303344727,\n",
       "  -0.4002024531364441,\n",
       "  0.4822758138179779,\n",
       "  -0.055458202958106995,\n",
       "  -0.7657302618026733,\n",
       "  0.4347529709339142,\n",
       "  -0.03691753000020981,\n",
       "  0.2940274775028229,\n",
       "  0.6131382584571838,\n",
       "  -0.883915364742279,\n",
       "  0.47928178310394287,\n",
       "  0.2841014266014099,\n",
       "  0.30839383602142334,\n",
       "  -0.035738930106163025,\n",
       "  0.36334002017974854,\n",
       "  -0.02252301573753357,\n",
       "  -0.7196284532546997,\n",
       "  0.09660371392965317,\n",
       "  -0.20421874523162842,\n",
       "  -0.7254845499992371,\n",
       "  0.40573152899742126,\n",
       "  -0.03011840581893921,\n",
       "  0.6523682475090027,\n",
       "  -0.9328222274780273,\n",
       "  -0.2964448034763336,\n",
       "  0.28421279788017273,\n",
       "  -0.29530730843544006,\n",
       "  -0.1591961830854416,\n",
       "  0.012077417224645615,\n",
       "  0.31345540285110474,\n",
       "  -0.6109448075294495,\n",
       "  -0.22691237926483154,\n",
       "  1.4989591836929321,\n",
       "  -0.4037802815437317,\n",
       "  0.6056380867958069,\n",
       "  0.08257247507572174,\n",
       "  0.06103844940662384,\n",
       "  0.5953235030174255,\n",
       "  0.6834529042243958,\n",
       "  -0.40784817934036255,\n",
       "  -0.1834252029657364,\n",
       "  0.3734872341156006,\n",
       "  1.3601893186569214,\n",
       "  0.3157268166542053,\n",
       "  -0.1601373553276062,\n",
       "  0.30014151334762573,\n",
       "  0.01293580699712038,\n",
       "  0.6951214075088501,\n",
       "  0.9071360230445862,\n",
       "  -0.32119178771972656,\n",
       "  -0.3472984731197357,\n",
       "  0.3231878876686096,\n",
       "  -0.5465354919433594,\n",
       "  -0.43997660279273987,\n",
       "  1.1056439876556396,\n",
       "  0.0844971090555191,\n",
       "  -0.7567818760871887,\n",
       "  1.1226069927215576,\n",
       "  0.9785538911819458,\n",
       "  -0.7084177136421204,\n",
       "  -0.22195330262184143,\n",
       "  0.27269938588142395,\n",
       "  -0.27780309319496155,\n",
       "  -0.11743158102035522,\n",
       "  0.22151969373226166,\n",
       "  0.06723438948392868,\n",
       "  1.4308480024337769,\n",
       "  -0.7793039083480835,\n",
       "  1.3198233842849731,\n",
       "  -0.17118008434772491,\n",
       "  0.22567379474639893,\n",
       "  -0.16720440983772278,\n",
       "  -0.6013423204421997,\n",
       "  -0.5571105480194092,\n",
       "  -0.3868233561515808,\n",
       "  -0.5511599779129028,\n",
       "  -0.21008090674877167,\n",
       "  -0.4528021812438965,\n",
       "  -0.10451452434062958,\n",
       "  0.15179862082004547,\n",
       "  1.0982084274291992,\n",
       "  -0.21891948580741882,\n",
       "  -0.16755148768424988,\n",
       "  0.48359552025794983,\n",
       "  0.6755000948905945,\n",
       "  0.30597031116485596,\n",
       "  0.23325717449188232,\n",
       "  0.662211537361145,\n",
       "  1.3032835721969604,\n",
       "  0.1711646318435669,\n",
       "  -0.2505698502063751,\n",
       "  -0.022171182557940483,\n",
       "  0.1072685718536377,\n",
       "  -0.6994031667709351,\n",
       "  0.19156017899513245,\n",
       "  0.18687352538108826,\n",
       "  1.129711389541626,\n",
       "  0.10983839631080627,\n",
       "  0.11352655291557312,\n",
       "  0.857783854007721,\n",
       "  0.2372719645500183,\n",
       "  -0.9791833162307739,\n",
       "  -0.012167870998382568,\n",
       "  -0.1883906126022339,\n",
       "  -1.7092468738555908,\n",
       "  -0.0830938071012497,\n",
       "  -0.021395400166511536,\n",
       "  -0.2933867573738098,\n",
       "  0.4750269055366516,\n",
       "  0.13195544481277466,\n",
       "  -0.4690191149711609,\n",
       "  -0.028107818216085434,\n",
       "  0.9686922430992126,\n",
       "  -0.3506881892681122,\n",
       "  0.1573089361190796,\n",
       "  0.4911177158355713,\n",
       "  0.3553180694580078,\n",
       "  -0.32524895668029785,\n",
       "  -0.1632365733385086,\n",
       "  -0.5249113440513611,\n",
       "  -0.21477141976356506,\n",
       "  -0.9885456562042236,\n",
       "  0.7145987153053284,\n",
       "  -0.7623014450073242,\n",
       "  -0.27253293991088867,\n",
       "  -0.3647042512893677,\n",
       "  0.5766322016716003,\n",
       "  1.6519739627838135,\n",
       "  0.8484967947006226,\n",
       "  0.989516019821167,\n",
       "  0.44892868399620056,\n",
       "  0.6178821325302124,\n",
       "  0.4614483714103699,\n",
       "  -0.7372422218322754,\n",
       "  -0.45475465059280396,\n",
       "  -0.353802353143692,\n",
       "  0.4948926866054535,\n",
       "  0.2295927256345749,\n",
       "  0.5017048120498657,\n",
       "  0.5311484932899475,\n",
       "  -0.8038491606712341,\n",
       "  0.35135388374328613,\n",
       "  0.9884030818939209,\n",
       "  0.6383456587791443,\n",
       "  0.8916115760803223,\n",
       "  0.16682466864585876,\n",
       "  0.7820945382118225,\n",
       "  0.8879807591438293,\n",
       "  0.18504086136817932,\n",
       "  0.13884389400482178,\n",
       "  -0.15699513256549835,\n",
       "  0.1695314645767212,\n",
       "  -0.32459715008735657,\n",
       "  0.4415135979652405,\n",
       "  0.8433399796485901,\n",
       "  0.4713224768638611,\n",
       "  0.2418844848871231,\n",
       "  -0.003215838223695755,\n",
       "  -0.5263707637786865,\n",
       "  -0.5752130746841431,\n",
       "  -0.2722206115722656,\n",
       "  0.39659950137138367,\n",
       "  1.1108224391937256,\n",
       "  -1.2995836734771729,\n",
       "  -0.9891383647918701,\n",
       "  -0.7186368107795715,\n",
       "  0.8630520701408386,\n",
       "  -0.333237886428833,\n",
       "  0.01509169116616249,\n",
       "  0.5595903992652893,\n",
       "  -0.4215489327907562,\n",
       "  0.01668715663254261,\n",
       "  0.39887234568595886,\n",
       "  -0.0016391128301620483,\n",
       "  -0.2788325250148773,\n",
       "  -0.5520292520523071,\n",
       "  -0.6832407712936401,\n",
       "  -0.6413414478302002,\n",
       "  0.01665991172194481,\n",
       "  0.06670892983675003,\n",
       "  -0.1284010112285614,\n",
       "  0.10512746125459671,\n",
       "  -1.0248574018478394,\n",
       "  -0.389290452003479,\n",
       "  0.11996611952781677,\n",
       "  -0.7988046407699585,\n",
       "  -0.31252530217170715,\n",
       "  0.060324862599372864,\n",
       "  0.35305023193359375,\n",
       "  -0.31748008728027344,\n",
       "  -0.25681084394454956,\n",
       "  -0.20506195724010468,\n",
       "  0.361904114484787,\n",
       "  0.43795081973075867,\n",
       "  0.45505857467651367,\n",
       "  -0.022244051098823547,\n",
       "  -0.4191823899745941,\n",
       "  -0.5797614455223083,\n",
       "  -0.19311460852622986,\n",
       "  -0.023688603192567825,\n",
       "  -0.24655459821224213,\n",
       "  1.1738967895507812,\n",
       "  -0.030883681029081345,\n",
       "  0.043970271944999695,\n",
       "  -0.6694715619087219,\n",
       "  -0.4620908796787262,\n",
       "  -0.22583477199077606,\n",
       "  0.028264116495847702,\n",
       "  0.23019501566886902,\n",
       "  -0.23162004351615906,\n",
       "  0.17418833076953888,\n",
       "  -0.5909714698791504,\n",
       "  -0.42131274938583374,\n",
       "  -0.2670028507709503,\n",
       "  0.9991856813430786,\n",
       "  -1.0723285675048828,\n",
       "  -0.003468550741672516,\n",
       "  0.23993927240371704,\n",
       "  1.450973629951477,\n",
       "  -1.0893502235412598,\n",
       "  0.6422404050827026,\n",
       "  -0.08513924479484558,\n",
       "  1.2171151638031006,\n",
       "  0.26493170857429504,\n",
       "  -0.2703489065170288,\n",
       "  0.6118576526641846,\n",
       "  -0.386319637298584,\n",
       "  0.10854953527450562,\n",
       "  -0.7341132760047913,\n",
       "  0.5681210160255432,\n",
       "  0.7998491525650024,\n",
       "  0.09078530222177505,\n",
       "  -1.607169508934021,\n",
       "  0.2390134334564209,\n",
       "  -0.15894313156604767,\n",
       "  -0.29447248578071594,\n",
       "  -0.8541796207427979,\n",
       "  -0.057076938450336456,\n",
       "  0.5227135419845581,\n",
       "  1.099575400352478,\n",
       "  0.2789713442325592,\n",
       "  -0.1833343803882599,\n",
       "  -0.6712213754653931,\n",
       "  -0.7729727625846863,\n",
       "  0.31958526372909546,\n",
       "  0.1415219008922577,\n",
       "  -0.2647078335285187,\n",
       "  -0.144881933927536,\n",
       "  0.6100357174873352,\n",
       "  -0.6387801170349121,\n",
       "  0.8043251037597656,\n",
       "  0.2674601972103119,\n",
       "  -0.21544504165649414,\n",
       "  0.18120087683200836,\n",
       "  0.39340633153915405,\n",
       "  -0.28787270188331604,\n",
       "  -0.2960541844367981,\n",
       "  0.38428542017936707,\n",
       "  0.9483217597007751,\n",
       "  0.7176359295845032,\n",
       "  0.23430101573467255,\n",
       "  -0.10418684780597687,\n",
       "  -0.19683250784873962,\n",
       "  0.8127486705780029,\n",
       "  -0.559769332408905,\n",
       "  0.6212953329086304,\n",
       "  0.8390064835548401,\n",
       "  1.2491117715835571,\n",
       "  -0.5372135043144226,\n",
       "  -1.0356512069702148,\n",
       "  -0.05282171815633774,\n",
       "  0.935832679271698,\n",
       "  -0.5186202526092529,\n",
       "  0.680740475654602,\n",
       "  -0.5597015619277954,\n",
       "  0.8935429453849792,\n",
       "  -0.552901566028595,\n",
       "  -0.6822429895401001,\n",
       "  0.5175979733467102,\n",
       "  -1.4045984745025635,\n",
       "  -1.2803579568862915,\n",
       "  0.8769445419311523,\n",
       "  -0.5950398445129395,\n",
       "  0.8273114562034607,\n",
       "  -0.35567545890808105,\n",
       "  0.5835115313529968,\n",
       "  0.26818010210990906,\n",
       "  -0.13420581817626953,\n",
       "  0.7653506994247437,\n",
       "  -0.14842571318149567,\n",
       "  -0.17850545048713684,\n",
       "  -0.5056455731391907,\n",
       "  0.21377409994602203,\n",
       "  0.26316559314727783,\n",
       "  -0.17407265305519104,\n",
       "  -0.6240141987800598,\n",
       "  -0.651806652545929,\n",
       "  0.605075478553772,\n",
       "  0.10930031538009644,\n",
       "  -0.3191295862197876,\n",
       "  -0.618783175945282,\n",
       "  0.05358888953924179,\n",
       "  0.3100264072418213,\n",
       "  0.6348165273666382,\n",
       "  -0.42114725708961487,\n",
       "  -0.21536776423454285,\n",
       "  -0.11399540305137634,\n",
       "  0.46291738748550415,\n",
       "  -0.5369318127632141,\n",
       "  0.4751301407814026,\n",
       "  0.2621240019798279,\n",
       "  -0.35089612007141113,\n",
       "  -0.015565752983093262,\n",
       "  0.13763219118118286,\n",
       "  -0.8359386324882507,\n",
       "  -0.15959124267101288,\n",
       "  0.40610677003860474,\n",
       "  -0.7819583415985107,\n",
       "  0.3173597455024719,\n",
       "  -0.012069071643054485,\n",
       "  -0.18755528330802917,\n",
       "  -0.9449343681335449,\n",
       "  -0.5034882426261902,\n",
       "  -0.6330020427703857,\n",
       "  0.3042075037956238,\n",
       "  -1.751554250717163,\n",
       "  -0.6238495707511902,\n",
       "  0.29572102427482605,\n",
       "  0.9532354474067688,\n",
       "  0.4536304175853729,\n",
       "  -1.3141801357269287,\n",
       "  0.1562468409538269,\n",
       "  -0.3882806599140167,\n",
       "  0.5300372242927551,\n",
       "  -0.11313654482364655,\n",
       "  0.06898538023233414,\n",
       "  -1.0450785160064697,\n",
       "  -0.4898350238800049,\n",
       "  -1.288220763206482,\n",
       "  0.11653943359851837,\n",
       "  0.7261872887611389,\n",
       "  0.15129655599594116,\n",
       "  0.33920028805732727,\n",
       "  0.16818314790725708,\n",
       "  -0.801361620426178,\n",
       "  0.43993833661079407,\n",
       "  0.5496787428855896,\n",
       "  0.4748053252696991,\n",
       "  -0.15672245621681213,\n",
       "  -0.3555365800857544,\n",
       "  0.43518781661987305,\n",
       "  0.10068473219871521,\n",
       "  0.6212141513824463,\n",
       "  -0.09371010959148407,\n",
       "  -0.16249673068523407,\n",
       "  -0.10796140134334564,\n",
       "  -0.32087934017181396,\n",
       "  0.2782937288284302,\n",
       "  -0.32688450813293457,\n",
       "  0.5635221004486084,\n",
       "  -0.6612759232521057,\n",
       "  -0.2851964235305786,\n",
       "  -0.1646038293838501,\n",
       "  0.4184606969356537,\n",
       "  -0.02997378073632717,\n",
       "  -0.05587959662079811,\n",
       "  -0.3495334982872009,\n",
       "  0.9608575701713562,\n",
       "  -0.024217259138822556,\n",
       "  -0.09698440879583359,\n",
       "  0.40955284237861633,\n",
       "  0.3422321379184723,\n",
       "  -0.05447625368833542,\n",
       "  0.6860231161117554,\n",
       "  0.8251782655715942,\n",
       "  -0.12871938943862915,\n",
       "  0.6003684997558594,\n",
       "  -0.11350834369659424,\n",
       "  -0.9635676145553589,\n",
       "  0.5317075848579407,\n",
       "  -0.41888129711151123,\n",
       "  0.10793190449476242,\n",
       "  0.43450313806533813,\n",
       "  1.0160510540008545,\n",
       "  -0.46212342381477356,\n",
       "  -1.0143836736679077,\n",
       "  0.18005529046058655,\n",
       "  0.6478013396263123,\n",
       "  0.7145861983299255,\n",
       "  -0.5327787399291992,\n",
       "  -0.7257954478263855,\n",
       "  -0.09045486152172089,\n",
       "  0.36313021183013916,\n",
       "  0.43947649002075195,\n",
       "  -0.2580597996711731,\n",
       "  0.7578951120376587,\n",
       "  -0.022251933813095093,\n",
       "  -0.2846435606479645,\n",
       "  -0.3330269753932953,\n",
       "  0.9749592542648315,\n",
       "  0.10880041122436523,\n",
       "  0.3803302049636841,\n",
       "  0.726787269115448,\n",
       "  0.5720211267471313,\n",
       "  -0.4672093987464905,\n",
       "  0.14944326877593994,\n",
       "  -0.43864625692367554,\n",
       "  0.2880973815917969,\n",
       "  -0.2620713412761688,\n",
       "  0.03177016228437424,\n",
       "  -0.18043813109397888,\n",
       "  -0.7352620959281921,\n",
       "  -0.7730527520179749,\n",
       "  -0.4034675359725952,\n",
       "  0.9659526944160461,\n",
       "  0.1456417739391327,\n",
       "  0.6781635284423828,\n",
       "  0.32861703634262085,\n",
       "  -0.06492329388856888,\n",
       "  0.6711764335632324,\n",
       "  0.38600775599479675,\n",
       "  0.5570027828216553,\n",
       "  -0.5893923044204712,\n",
       "  -0.4893317222595215,\n",
       "  1.0685652494430542,\n",
       "  0.2422216236591339,\n",
       "  -0.4705813229084015,\n",
       "  -0.5839627981185913,\n",
       "  0.4692933261394501,\n",
       "  0.25472790002822876,\n",
       "  1.064305067062378,\n",
       "  0.07324273884296417,\n",
       "  -0.7122660279273987,\n",
       "  -0.8194118738174438,\n",
       "  -0.9059814214706421,\n",
       "  -1.147778034210205,\n",
       "  -0.6045222282409668,\n",
       "  0.2969515919685364,\n",
       "  -0.5599743127822876,\n",
       "  -0.2023879885673523,\n",
       "  -0.23838242888450623,\n",
       "  0.44189801812171936,\n",
       "  -0.1296698898077011,\n",
       "  -0.8157368898391724,\n",
       "  0.5985878109931946,\n",
       "  -0.2044048309326172,\n",
       "  0.4412998557090759,\n",
       "  -0.26874154806137085,\n",
       "  -0.5902400016784668,\n",
       "  0.5777136087417603,\n",
       "  0.03525149077177048,\n",
       "  -0.14815925061702728,\n",
       "  0.338637113571167,\n",
       "  -0.0025705108419060707,\n",
       "  0.22688698768615723,\n",
       "  -0.045320406556129456,\n",
       "  -0.5869501829147339,\n",
       "  0.4312251806259155,\n",
       "  -0.09928276389837265,\n",
       "  -0.5925135016441345,\n",
       "  -0.5955924987792969,\n",
       "  0.43291622400283813,\n",
       "  0.2786864638328552,\n",
       "  0.02565525285899639,\n",
       "  -0.1404767632484436,\n",
       "  -0.8389936685562134,\n",
       "  0.20131252706050873,\n",
       "  -0.7536467909812927,\n",
       "  0.017080077901482582,\n",
       "  -0.8021856546401978,\n",
       "  0.07799410074949265,\n",
       "  -0.32284557819366455,\n",
       "  -0.8704463839530945,\n",
       "  0.770063579082489,\n",
       "  -0.6362157464027405,\n",
       "  0.12309008091688156,\n",
       "  -0.7341150641441345,\n",
       "  0.857150673866272,\n",
       "  0.3024336099624634,\n",
       "  0.23575785756111145,\n",
       "  -0.2120157778263092,\n",
       "  -0.26095062494277954,\n",
       "  -0.11274459958076477,\n",
       "  -0.7351117730140686,\n",
       "  0.34013083577156067,\n",
       "  -0.5383874773979187,\n",
       "  0.4266069829463959,\n",
       "  -1.1105549335479736,\n",
       "  0.21107354760169983,\n",
       "  0.9335523247718811,\n",
       "  -0.25622105598449707,\n",
       "  1.043309211730957,\n",
       "  1.159290075302124,\n",
       "  -0.17316415905952454,\n",
       "  -0.5555967092514038,\n",
       "  -0.813301146030426,\n",
       "  -0.1588079035282135,\n",
       "  0.9017669558525085,\n",
       "  0.13068313896656036,\n",
       "  1.329879879951477,\n",
       "  0.256636381149292,\n",
       "  -0.9730933308601379,\n",
       "  0.08301956206560135,\n",
       "  -0.029347844421863556,\n",
       "  -0.4506460130214691,\n",
       "  -0.9831230640411377,\n",
       "  0.136162668466568,\n",
       "  1.1659624576568604,\n",
       "  -0.8010740876197815,\n",
       "  -0.14728236198425293,\n",
       "  0.34730690717697144,\n",
       "  -1.2320531606674194,\n",
       "  -0.2704150378704071,\n",
       "  0.523699939250946,\n",
       "  0.006797364912927151,\n",
       "  0.4722331464290619,\n",
       "  0.5703487396240234,\n",
       "  0.49093884229660034,\n",
       "  -0.038583047688007355,\n",
       "  0.5661054253578186,\n",
       "  0.08186833560466766,\n",
       "  -0.19957000017166138,\n",
       "  -0.6526609659194946,\n",
       "  0.3196418285369873,\n",
       "  -0.3741883337497711,\n",
       "  -0.6870899200439453,\n",
       "  0.7529594302177429,\n",
       "  0.84404057264328,\n",
       "  -0.34936678409576416,\n",
       "  -0.9804272055625916,\n",
       "  -0.5201839804649353,\n",
       "  -0.7934301495552063,\n",
       "  -0.09170067310333252,\n",
       "  -0.09909109771251678,\n",
       "  0.2170320600271225,\n",
       "  -0.5084542036056519,\n",
       "  -0.024931151419878006,\n",
       "  0.14154112339019775,\n",
       "  -0.070549376308918,\n",
       "  -0.02618607133626938,\n",
       "  0.48682624101638794,\n",
       "  -0.4442671537399292,\n",
       "  0.7784774899482727,\n",
       "  -0.7000819444656372,\n",
       "  0.3844001591205597,\n",
       "  1.1787705421447754,\n",
       "  -0.1302158236503601,\n",
       "  -0.628146767616272,\n",
       "  -1.4189448356628418,\n",
       "  0.550273597240448,\n",
       "  0.9693799018859863,\n",
       "  -0.09651064872741699,\n",
       "  0.9234602451324463,\n",
       "  -0.2572033405303955,\n",
       "  0.029421526938676834,\n",
       "  -0.14659683406352997,\n",
       "  -0.06505049020051956,\n",
       "  -0.7912330031394958,\n",
       "  -0.3408258259296417,\n",
       "  -0.18108613789081573,\n",
       "  1.0466610193252563,\n",
       "  -0.31135714054107666,\n",
       "  -0.6982701420783997,\n",
       "  -0.8134661316871643,\n",
       "  0.6122753024101257,\n",
       "  0.5304393768310547,\n",
       "  1.1063731908798218,\n",
       "  -0.7272021174430847,\n",
       "  0.24967223405838013,\n",
       "  -0.035020217299461365,\n",
       "  0.3615798056125641,\n",
       "  -0.9039394855499268,\n",
       "  -0.04320928826928139,\n",
       "  -1.1527752876281738,\n",
       "  -1.1558647155761719,\n",
       "  -0.6475588083267212,\n",
       "  -0.9209888577461243,\n",
       "  -0.3370126485824585,\n",
       "  -0.06899416446685791,\n",
       "  -0.0316859632730484,\n",
       "  0.011667899787425995,\n",
       "  0.35679104924201965,\n",
       "  -0.32661083340644836,\n",
       "  0.5910126566886902,\n",
       "  -1.314150333404541,\n",
       "  0.5428351163864136,\n",
       "  0.9407389760017395,\n",
       "  0.2692298889160156,\n",
       "  -1.441986083984375,\n",
       "  -0.29722023010253906,\n",
       "  0.02765784226357937,\n",
       "  -0.2918422222137451,\n",
       "  0.1969202160835266,\n",
       "  -0.45011261105537415,\n",
       "  -0.38558241724967957,\n",
       "  -0.3351164758205414,\n",
       "  -0.0647469013929367,\n",
       "  0.09266920387744904,\n",
       "  0.7139273881912231,\n",
       "  0.6212714910507202,\n",
       "  -0.28509169816970825,\n",
       "  -0.030773717910051346,\n",
       "  0.8153029680252075,\n",
       "  0.2375812977552414,\n",
       "  -0.6955777406692505,\n",
       "  0.14077305793762207,\n",
       "  -0.2857885956764221,\n",
       "  0.08220849931240082,\n",
       "  -0.5740468502044678,\n",
       "  0.017243631184101105,\n",
       "  -0.2708520293235779,\n",
       "  -0.38036778569221497,\n",
       "  -0.28310707211494446,\n",
       "  0.14968377351760864,\n",
       "  0.17901623249053955,\n",
       "  -0.5836433172225952,\n",
       "  -0.4561205208301544,\n",
       "  0.7300108075141907,\n",
       "  -0.5773513317108154,\n",
       "  -0.42784836888313293,\n",
       "  -0.7036937475204468,\n",
       "  0.43201136589050293,\n",
       "  -0.15928548574447632,\n",
       "  -1.0725126266479492,\n",
       "  -0.4731355607509613,\n",
       "  1.1105756759643555,\n",
       "  -0.035638198256492615,\n",
       "  -0.08082406222820282,\n",
       "  -0.5379987955093384,\n",
       "  0.647628664970398,\n",
       "  -0.2496418058872223,\n",
       "  -0.38023045659065247,\n",
       "  0.9341070652008057,\n",
       "  -0.48638713359832764,\n",
       "  0.4895586669445038,\n",
       "  -0.5182186961174011,\n",
       "  -0.5298324227333069,\n",
       "  -0.11954885721206665,\n",
       "  -0.15059486031532288,\n",
       "  -0.01417311280965805,\n",
       "  0.006155770272016525,\n",
       "  0.2175905704498291,\n",
       "  -0.31869494915008545,\n",
       "  0.05714692920446396,\n",
       "  -0.431682288646698,\n",
       "  0.18451809883117676,\n",
       "  0.0014578141272068024,\n",
       "  -0.37253203988075256,\n",
       "  0.35461682081222534,\n",
       "  0.013914462178945541,\n",
       "  0.007852539420127869,\n",
       "  -0.14146846532821655,\n",
       "  -1.4325306415557861,\n",
       "  0.2707948386669159,\n",
       "  -0.5149078369140625,\n",
       "  0.26306086778640747,\n",
       "  -0.3805561065673828,\n",
       "  0.10886260122060776,\n",
       "  -1.016006588935852,\n",
       "  0.9854171276092529,\n",
       "  -0.3333047032356262,\n",
       "  -0.1354903280735016,\n",
       "  0.11238507926464081,\n",
       "  -0.3594897389411926,\n",
       "  -0.6799406409263611,\n",
       "  -0.15917938947677612,\n",
       "  -0.9794963002204895,\n",
       "  -0.1203446239233017,\n",
       "  -0.25168177485466003,\n",
       "  0.1940539926290512,\n",
       "  0.11619611084461212,\n",
       "  -0.5353955626487732,\n",
       "  0.9650598764419556,\n",
       "  0.22983330488204956,\n",
       "  0.49076971411705017,\n",
       "  0.10973167419433594,\n",
       "  -0.43888404965400696,\n",
       "  0.5037203431129456,\n",
       "  0.5118705034255981,\n",
       "  0.10037799179553986,\n",
       "  -0.23200881481170654,\n",
       "  0.30296698212623596,\n",
       "  -0.3830370306968689,\n",
       "  0.5844179391860962,\n",
       "  -0.36666929721832275,\n",
       "  -0.14144426584243774,\n",
       "  -0.6379762291908264,\n",
       "  -0.08236923813819885,\n",
       "  0.6162315607070923,\n",
       "  0.12449759244918823,\n",
       "  -0.294610857963562,\n",
       "  0.7850539088249207,\n",
       "  0.8118306398391724,\n",
       "  -0.17073123157024384,\n",
       "  0.33538591861724854,\n",
       "  0.898179829120636,\n",
       "  -0.2970840632915497,\n",
       "  -0.034381136298179626,\n",
       "  0.024860763922333717,\n",
       "  0.05672392249107361,\n",
       "  1.1332361698150635,\n",
       "  -0.5003540515899658,\n",
       "  0.05439625680446625,\n",
       "  0.04027142375707626,\n",
       "  -0.11998052150011063,\n",
       "  0.6793554425239563,\n",
       "  -0.18320077657699585,\n",
       "  0.0978267639875412,\n",
       "  0.23723222315311432,\n",
       "  -0.8439502120018005,\n",
       "  -0.614139974117279,\n",
       "  -0.5400035381317139,\n",
       "  -0.580726146697998,\n",
       "  0.8332693576812744,\n",
       "  0.333154559135437,\n",
       "  -0.3319900631904602,\n",
       "  0.11567293107509613,\n",
       "  0.1706210970878601,\n",
       "  -0.9411870837211609,\n",
       "  0.5528303384780884,\n",
       "  -0.07157594710588455,\n",
       "  0.8304442167282104,\n",
       "  -0.43825456500053406,\n",
       "  -0.3609996736049652,\n",
       "  -0.8113683462142944,\n",
       "  0.8570039868354797,\n",
       "  -0.656982958316803,\n",
       "  0.3206140995025635,\n",
       "  -0.24770724773406982,\n",
       "  -0.30880120396614075,\n",
       "  0.654319703578949,\n",
       "  0.6912217736244202,\n",
       "  -0.325109601020813,\n",
       "  0.31616100668907166,\n",
       "  0.07701262831687927,\n",
       "  0.1743186116218567,\n",
       "  -0.028853781521320343,\n",
       "  -0.15670152008533478,\n",
       "  0.6878931522369385,\n",
       "  0.30047407746315,\n",
       "  -0.32555946707725525,\n",
       "  -0.5001158714294434,\n",
       "  -1.0319076776504517,\n",
       "  -0.06886561214923859,\n",
       "  -0.23732197284698486,\n",
       "  -0.16320861876010895,\n",
       "  0.5961039066314697,\n",
       "  0.18745502829551697,\n",
       "  0.09197776019573212,\n",
       "  0.2855435609817505,\n",
       "  0.2249818742275238,\n",
       "  -1.1452927589416504,\n",
       "  -0.5692644715309143,\n",
       "  0.8659602999687195,\n",
       "  -0.02065601944923401,\n",
       "  -0.8741074800491333,\n",
       "  0.07987932115793228,\n",
       "  0.40324461460113525,\n",
       "  0.850716233253479,\n",
       "  0.15771809220314026,\n",
       "  0.7832226157188416,\n",
       "  -0.8269385695457458,\n",
       "  0.43315625190734863,\n",
       "  0.3469030559062958,\n",
       "  -0.17718356847763062,\n",
       "  -0.3181993067264557,\n",
       "  0.33816954493522644,\n",
       "  -0.0976364016532898,\n",
       "  -1.4449557065963745,\n",
       "  0.1966644674539566,\n",
       "  0.017149247229099274,\n",
       "  0.5601730346679688,\n",
       "  -0.28911644220352173,\n",
       "  -1.027058720588684,\n",
       "  0.144918754696846,\n",
       "  -0.043153680860996246,\n",
       "  0.7643773555755615,\n",
       "  -0.37228667736053467,\n",
       "  -0.04709188640117645,\n",
       "  -0.01795821264386177,\n",
       "  -0.6394990682601929,\n",
       "  -0.2866479456424713,\n",
       "  -0.33566293120384216,\n",
       "  0.0454997681081295,\n",
       "  -0.39284005761146545,\n",
       "  -0.21579961478710175,\n",
       "  -0.4545036852359772,\n",
       "  0.1765776127576828,\n",
       "  0.32501277327537537,\n",
       "  -0.355102002620697,\n",
       "  1.58245849609375,\n",
       "  0.10283362120389938,\n",
       "  -0.19085904955863953,\n",
       "  0.6765066981315613,\n",
       "  -0.6427202224731445,\n",
       "  -0.5732882022857666,\n",
       "  0.8670304417610168,\n",
       "  -0.4114408791065216,\n",
       "  -0.8206856846809387,\n",
       "  0.8772554993629456,\n",
       "  -0.09738437086343765,\n",
       "  -0.06685568392276764,\n",
       "  0.37175682187080383,\n",
       "  -0.3212888836860657,\n",
       "  -0.787119448184967,\n",
       "  0.4967394769191742,\n",
       "  -0.15188926458358765,\n",
       "  -0.4492117762565613,\n",
       "  0.6801877617835999,\n",
       "  0.6919043064117432,\n",
       "  0.3830961585044861,\n",
       "  0.501679003238678,\n",
       "  0.23360732197761536,\n",
       "  0.8098129630088806,\n",
       "  0.2846297323703766,\n",
       "  -0.34794461727142334,\n",
       "  -0.1913500726222992,\n",
       "  0.9821370244026184,\n",
       "  -0.6017259955406189,\n",
       "  -0.12224394083023071,\n",
       "  0.5715965032577515,\n",
       "  0.775881290435791,\n",
       "  0.764030396938324,\n",
       "  -1.2137165069580078,\n",
       "  -1.3389530181884766,\n",
       "  -0.3586616814136505,\n",
       "  0.026916570961475372,\n",
       "  0.10627634823322296,\n",
       "  -0.14852654933929443,\n",
       "  1.2361352443695068,\n",
       "  -0.2915172278881073,\n",
       "  -0.23761220276355743,\n",
       "  0.17492227256298065,\n",
       "  -0.6911488175392151,\n",
       "  3.5134692192077637,\n",
       "  0.27973929047584534,\n",
       "  0.3363584876060486,\n",
       "  -0.3548278212547302,\n",
       "  0.12451833486557007,\n",
       "  0.1130017563700676,\n",
       "  1.4983030557632446,\n",
       "  -0.740307629108429,\n",
       "  1.0102077722549438,\n",
       "  -1.0209476947784424,\n",
       "  0.12372225522994995,\n",
       "  0.3383297920227051,\n",
       "  0.16515186429023743,\n",
       "  1.4981147050857544,\n",
       "  0.4149858057498932,\n",
       "  0.7854909300804138,\n",
       "  -0.35720378160476685,\n",
       "  0.5233485102653503,\n",
       "  0.5601739287376404,\n",
       "  -0.9466060996055603,\n",
       "  -0.25350794196128845,\n",
       "  0.8007230162620544,\n",
       "  -0.3833029270172119,\n",
       "  0.008305050432682037,\n",
       "  -0.45892342925071716,\n",
       "  -0.06947080790996552,\n",
       "  -0.07495732605457306,\n",
       "  -0.6138654351234436,\n",
       "  -0.5132970809936523,\n",
       "  0.5329715609550476,\n",
       "  0.6375942230224609,\n",
       "  -0.47624993324279785,\n",
       "  0.355251669883728,\n",
       "  -0.1472504585981369,\n",
       "  -1.6867637634277344,\n",
       "  0.6890546679496765,\n",
       "  -0.6485887169837952,\n",
       "  -0.6415151953697205,\n",
       "  -0.2894435226917267,\n",
       "  -0.5956888794898987,\n",
       "  -0.50862056016922,\n",
       "  1.198870062828064,\n",
       "  -0.003536128904670477,\n",
       "  -0.18005268275737762,\n",
       "  0.3939838111400604,\n",
       "  0.494209349155426,\n",
       "  -0.14696836471557617,\n",
       "  0.09772343933582306,\n",
       "  -0.6544397473335266,\n",
       "  -1.1087933778762817,\n",
       "  -0.2866833209991455,\n",
       "  -0.4518404006958008,\n",
       "  -0.28331229090690613,\n",
       "  -0.4252072274684906,\n",
       "  -0.9646357297897339,\n",
       "  0.28610846400260925,\n",
       "  0.18577918410301208,\n",
       "  -0.7341324687004089,\n",
       "  -0.5095831155776978,\n",
       "  -0.010019436478614807,\n",
       "  0.3528471291065216,\n",
       "  -0.7052997350692749,\n",
       "  -0.004706937819719315,\n",
       "  0.7134730815887451,\n",
       "  -1.316394567489624,\n",
       "  -0.39264702796936035,\n",
       "  0.13994795083999634,\n",
       "  -0.9938045740127563,\n",
       "  0.15986397862434387,\n",
       "  -0.12729120254516602,\n",
       "  -0.2541326880455017,\n",
       "  ...]]"
      ]
     },
     "execution_count": 459,
     "metadata": {},
     "output_type": "execute_result"
    }
   ],
   "source": [
    "ef([\"Here is an article about llamas...\"])"
   ]
  },
  {
   "cell_type": "code",
   "execution_count": null,
   "metadata": {},
   "outputs": [],
   "source": []
  },
  {
   "cell_type": "code",
   "execution_count": null,
   "metadata": {},
   "outputs": [],
   "source": []
  },
  {
   "cell_type": "code",
   "execution_count": 526,
   "metadata": {},
   "outputs": [],
   "source": [
    "from langchain_community.embeddings import HuggingFaceEmbeddings\n",
    "\n",
    "model_name = \"sentence-transformers/all-mpnet-base-v2\"\n",
    "model_kwargs = {'device': 'cuda'}\n",
    "encode_kwargs = {'normalize_embeddings': False}\n",
    "hf = HuggingFaceEmbeddings(\n",
    "    model_name=model_name,\n",
    "    model_kwargs=model_kwargs,\n",
    "    encode_kwargs=encode_kwargs\n",
    ")"
   ]
  },
  {
   "cell_type": "code",
   "execution_count": 529,
   "metadata": {},
   "outputs": [],
   "source": [
    "vector_store = Chroma.from_texts([\"\"], hf)"
   ]
  },
  {
   "cell_type": "code",
   "execution_count": null,
   "metadata": {},
   "outputs": [],
   "source": [
    "vector_store = Chroma.from_texts(lines, embedding)"
   ]
  },
  {
   "cell_type": "code",
   "execution_count": 532,
   "metadata": {},
   "outputs": [
    {
     "data": {
      "text/plain": [
       "['6a883715-6a16-4bb2-8aa7-a0a817adaf19',\n",
       " '44c8cecd-8ca2-440d-b552-bef6ac41d019',\n",
       " 'bc1fba90-e8d2-41b2-9baa-4896e52e7b05',\n",
       " '02fa2a9f-c1a8-4f49-b577-bde9100c6adf',\n",
       " '90f8d9c4-3222-45d1-874c-d54607fbed97',\n",
       " '23f08a83-3bf2-494e-9040-3c5b250801e5',\n",
       " 'e0f4a983-de96-41ed-92e2-785dbcdee609',\n",
       " 'd0eda2c0-29b0-4ce4-bfbe-b198297442c4',\n",
       " 'a34010cf-dac9-47bb-b015-9212ead3490e',\n",
       " '8e5b094c-e32f-4a2f-afda-c176c5194884',\n",
       " '498d03d4-4cc1-42a5-a4cd-dff3fb66dde4',\n",
       " 'db00d376-c296-44fb-8086-8f0831f993f6',\n",
       " '020aa901-f688-4728-8ed1-8bd8623d3cd0',\n",
       " 'd9d113e1-0073-4efe-9ed9-5ad48977868b',\n",
       " '7633886b-1ee2-4bb2-aa42-e54517faa362',\n",
       " '1b4cdb52-d56e-4101-8a0f-1f4177391eff',\n",
       " '62cd19b6-e4bf-43a1-9d3f-7babf9338763',\n",
       " '758aaa1d-bac5-403f-a336-d186e1feba55',\n",
       " '50990784-5ed6-46de-ada2-dca2f431d5ae',\n",
       " 'd835ca6a-96b7-4ed5-be15-cb6521675ae0',\n",
       " 'daf9d2d9-73bd-4573-99d1-5bdc24984897',\n",
       " '02d38c11-e876-43fc-8129-cccaf102ba19',\n",
       " '8f70a2b3-8aa6-4ea4-9643-5601883fb7af',\n",
       " '75fb3e22-818f-4318-93a9-2b7425a805e7',\n",
       " '79307226-a831-4465-b055-118cd74aab95',\n",
       " '1913d555-8277-4368-a1d0-20380d8c6135',\n",
       " '3a09ff88-31fb-4aa9-b986-6ec2a9e5111d',\n",
       " 'ec9a8fd0-9661-4b5f-be9e-564192bc3dfa',\n",
       " 'aae0e639-c47d-4731-9836-1b7c2b850b56',\n",
       " '0bd36e25-d83e-447b-ba50-a067ee0dfb03',\n",
       " '70d3b3f8-534d-43bc-9e26-4db0f87f48c5',\n",
       " 'c1345ee3-7475-4ed1-97e3-5680215b1fc1',\n",
       " '73de15b7-44a3-427c-bc1f-6aa2261ee8f5',\n",
       " 'e5720d2b-c018-4d90-a23c-8ab7456e403a',\n",
       " '12593553-4dc3-4069-9bfe-6f973325665b']"
      ]
     },
     "execution_count": 532,
     "metadata": {},
     "output_type": "execute_result"
    }
   ],
   "source": [
    "vector_store.add_texts(lines[:])"
   ]
  },
  {
   "cell_type": "code",
   "execution_count": null,
   "metadata": {},
   "outputs": [],
   "source": [
    "retriever = vector_store.as_retriever(search_type=\"mmr\", #search_type=\"similarity_score_threshold\", \n",
    "                                      search_kwargs={\"k\":5,\n",
    "                                                     \"score_threshold\":0.1,}\n",
    "                                                     )"
   ]
  },
  {
   "cell_type": "code",
   "execution_count": null,
   "metadata": {},
   "outputs": [],
   "source": [
    "vector_store.delete_collection()"
   ]
  },
  {
   "cell_type": "code",
   "execution_count": 533,
   "metadata": {},
   "outputs": [
    {
     "data": {
      "text/plain": [
       "36"
      ]
     },
     "execution_count": 533,
     "metadata": {},
     "output_type": "execute_result"
    }
   ],
   "source": [
    "vector_store._collection.count()"
   ]
  },
  {
   "cell_type": "code",
   "execution_count": 534,
   "metadata": {},
   "outputs": [
    {
     "data": {
      "text/plain": [
       "['Tab: [2304.07919] Chain of Thought Prompt Tuning in Vision Language Models at https://arxiv.org/abs/2304.07919',\n",
       " 'Tab: 2305.15021v2.pdf at https://arxiv.org/pdf/2305.15021',\n",
       " 'Tab: [2305.15408] Towards Revealing the Mystery behind Chain of Thought: A Theoretical Perspective at https://arxiv.org/abs/2305.15408',\n",
       " 'Tab: 2405.15071v2.pdf at https://arxiv.org/pdf/2405.15071',\n",
       " 'Tab: 2305.15408v5.pdf at https://arxiv.org/pdf/2305.15408',\n",
       " 'Tab: [2311.09193] The Role of Chain-of-Thought in Complex Vision-Language Reasoning Task at https://arxiv.org/abs/2311.09193',\n",
       " 'Tab: [2309.07915] MMICL: Empowering Vision-language Model with Multi-Modal In-Context Learning at https://arxiv.org/abs/2309.07915',\n",
       " 'Tab: [2401.02582] CoCoT: Contrastive Chain-of-Thought Prompting for Large Multimodal Models with Multiple Image Inputs at https://arxiv.org/abs/2401.02582',\n",
       " 'Tab: 2402.12195v1.pdf at https://arxiv.org/pdf/2402.12195',\n",
       " 'Tab: [2402.12058] Scaffolding Coordinates to Promote Vision-Language Coordination in Large Multi-Modal Models at https://arxiv.org/abs/2402.12058']"
      ]
     },
     "execution_count": 534,
     "metadata": {},
     "output_type": "execute_result"
    }
   ],
   "source": [
    "lines[:10]"
   ]
  },
  {
   "cell_type": "code",
   "execution_count": 540,
   "metadata": {},
   "outputs": [
    {
     "data": {
      "text/plain": [
       "[Document(page_content='Tab: [2401.02582] CoCoT: Contrastive Chain-of-Thought Prompting for Large Multimodal Models with Multiple Image Inputs at https://arxiv.org/abs/2401.02582'),\n",
       " Document(page_content='Tab: [2304.07919] Chain of Thought Prompt Tuning in Vision Language Models at https://arxiv.org/abs/2304.07919'),\n",
       " Document(page_content='Tab: [2309.07915] MMICL: Empowering Vision-language Model with Multi-Modal In-Context Learning at https://arxiv.org/abs/2309.07915')]"
      ]
     },
     "execution_count": 540,
     "metadata": {},
     "output_type": "execute_result"
    }
   ],
   "source": [
    "vector_store.similarity_search(\"contrastive\", k=3)"
   ]
  },
  {
   "cell_type": "code",
   "execution_count": null,
   "metadata": {},
   "outputs": [],
   "source": []
  },
  {
   "cell_type": "code",
   "execution_count": null,
   "metadata": {},
   "outputs": [],
   "source": []
  },
  {
   "cell_type": "code",
   "execution_count": null,
   "metadata": {},
   "outputs": [],
   "source": []
  },
  {
   "cell_type": "code",
   "execution_count": null,
   "metadata": {},
   "outputs": [],
   "source": []
  },
  {
   "cell_type": "code",
   "execution_count": 543,
   "metadata": {},
   "outputs": [],
   "source": [
    "from PIL import Image\n",
    "\n",
    "def resize_image(input_path, output_folder, sizes=(16, 32, 48, 128)):\n",
    "    original_image = Image.open(input_path)\n",
    "    for size in sizes:\n",
    "        resized_image = original_image.resize((size, size), Image.Resampling.LANCZOS)  # Updated to use Resampling\n",
    "        resized_image.save(f\"{output_folder}/icon-{size}.png\")\n",
    "\n",
    "# Replace the paths with the actual locations\n",
    "resize_image(\"/home/fsa/Downloads/6c747946-34dc-495f-9ca8-1b13f56bb8a7.webp\", \"/media/fsa/SecondaryDisk/MyWork/GPT/NeedleWindow/Ubuntu/firefox/icons\")\n"
   ]
  },
  {
   "cell_type": "code",
   "execution_count": 544,
   "metadata": {},
   "outputs": [],
   "source": [
    "from PIL import Image\n",
    "\n",
    "def convert_webp_to_jpg(input_path, output_path):\n",
    "    # Open the WebP file\n",
    "    with Image.open(input_path) as image:\n",
    "        # Convert the image to RGB mode before saving as JPEG\n",
    "        rgb_image = image.convert('RGB')\n",
    "        # Save the image in JPEG format\n",
    "        rgb_image.save(output_path, \"JPEG\")\n",
    "\n",
    "# Example usage\n",
    "input_path = '/home/fsa/Downloads/needle_window.webp'\n",
    "output_path = '/media/fsa/SecondaryDisk/MyWork/GPT/NeedleWindow/images/needle_window.jpg'\n",
    "convert_webp_to_jpg(input_path, output_path)\n"
   ]
  },
  {
   "cell_type": "code",
   "execution_count": null,
   "metadata": {},
   "outputs": [],
   "source": [
    "/home/fsa/Downloads/needle_window.webp"
   ]
  },
  {
   "cell_type": "code",
   "execution_count": null,
   "metadata": {},
   "outputs": [],
   "source": []
  }
 ],
 "metadata": {
  "kernelspec": {
   "display_name": "llm_finetuning",
   "language": "python",
   "name": "python3"
  },
  "language_info": {
   "codemirror_mode": {
    "name": "ipython",
    "version": 3
   },
   "file_extension": ".py",
   "mimetype": "text/x-python",
   "name": "python",
   "nbconvert_exporter": "python",
   "pygments_lexer": "ipython3",
   "version": "3.9.18"
  }
 },
 "nbformat": 4,
 "nbformat_minor": 2
}
